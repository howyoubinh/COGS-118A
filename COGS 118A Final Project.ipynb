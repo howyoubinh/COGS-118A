{
 "cells": [
  {
   "cell_type": "markdown",
   "metadata": {},
   "source": [
    "# COGS 118A Final Project\n",
    "Binh Nguyen"
   ]
  },
  {
   "cell_type": "code",
   "execution_count": 6,
   "metadata": {},
   "outputs": [],
   "source": [
    "import scipy.io as sio\n",
    "import matplotlib.pyplot as plt\n",
    "import numpy as np\n",
    "import scipy as sp\n",
    "import pandas as pd\n",
    "from sklearn import tree\n",
    "from sklearn.tree import DecisionTreeClassifier\n",
    "from sklearn.ensemble import BaggingClassifier\n",
    "from sklearn.neural_network import MLPClassifier\n",
    "from sklearn.model_selection import KFold, train_test_split\n",
    "from sklearn.metrics import accuracy_score\n",
    "import string\n",
    "import csv\n",
    "%matplotlib inline"
   ]
  },
  {
   "cell_type": "markdown",
   "metadata": {},
   "source": [
    "Datasets acquired from UCI Machine Learning Repository:\n",
    "https://archive.ics.uci.edu/ml/datasets"
   ]
  },
  {
   "cell_type": "markdown",
   "metadata": {},
   "source": [
    "## Load datasets"
   ]
  },
  {
   "cell_type": "markdown",
   "metadata": {},
   "source": [
    "\n",
    "### 1. LETTER Dataset\n",
    "https://archive.ics.uci.edu/ml/datasets/letter+recognition"
   ]
  },
  {
   "cell_type": "code",
   "execution_count": 18,
   "metadata": {},
   "outputs": [],
   "source": [
    "# Size = 20000x17\n",
    "# N = 20000\n",
    "# D = 16 features\n",
    "data = np.genfromtxt('letter-recognition.data', delimiter = ',', dtype=None, encoding=None)\n",
    "n = np.size(data)\n",
    "d = 16\n",
    "X = np.zeros((n,d))\n",
    "\n",
    "# Create X Matrix from numpy.void type\n",
    "for i in range(n):\n",
    "    for j in range(d):\n",
    "        X[i][j] = data[i][j+1]\n",
    "        \n",
    "# Create y vector with labels for each letter\n",
    "y = []\n",
    "for i in range(n):\n",
    "    y.append(data[i][0])\n",
    "\n",
    "# Convert letters to positive and negative values\n",
    "\n",
    "# A-M as positive (+) = 1\n",
    "positive = list(string.ascii_uppercase)[0:13]\n",
    "\n",
    "# N-Z as negative (-) = 0\n",
    "negative = list(string.ascii_uppercase)[13:26]\n",
    "\n",
    "y = np.asarray(y)\n",
    "\n",
    "for i in range(len(y)):\n",
    "    for j in range(len(positive)):\n",
    "        if y[i] == positive[j]:\n",
    "            y[i] = 1\n",
    "        elif y[i] == negative[j]:\n",
    "            y[i] = 0\n",
    "\n",
    "y = y.astype(int)"
   ]
  }
 ],
 "metadata": {
  "kernelspec": {
   "display_name": "Python 2",
   "language": "python",
   "name": "python2"
  },
  "language_info": {
   "codemirror_mode": {
    "name": "ipython",
    "version": 2
   },
   "file_extension": ".py",
   "mimetype": "text/x-python",
   "name": "python",
   "nbconvert_exporter": "python",
   "pygments_lexer": "ipython2",
   "version": "2.7.13"
  }
 },
 "nbformat": 4,
 "nbformat_minor": 2
}

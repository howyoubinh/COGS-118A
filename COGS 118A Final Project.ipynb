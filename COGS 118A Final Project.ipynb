{
 "cells": [
  {
   "cell_type": "markdown",
   "metadata": {},
   "source": [
    "# COGS 118A Final Project\n",
    "Binh Nguyen"
   ]
  },
  {
   "cell_type": "code",
   "execution_count": 2,
   "metadata": {},
   "outputs": [],
   "source": [
    "import scipy.io as sio\n",
    "import matplotlib.pyplot as plt\n",
    "import numpy as np\n",
    "import scipy as sp\n",
    "import pandas as pd\n",
    "from sklearn import tree\n",
    "from sklearn.tree import DecisionTreeClassifier\n",
    "from sklearn.ensemble import BaggingClassifier\n",
    "from sklearn.neural_network import MLPClassifier\n",
    "from sklearn.model_selection import KFold, train_test_split\n",
    "from sklearn.metrics import accuracy_score\n",
    "import string\n",
    "import csv\n",
    "%matplotlib inline"
   ]
  },
  {
   "cell_type": "markdown",
   "metadata": {},
   "source": [
    "Datasets acquired from UCI Machine Learning Repository:\n",
    "https://archive.ics.uci.edu/ml/datasets"
   ]
  },
  {
   "cell_type": "markdown",
   "metadata": {},
   "source": [
    "## Load datasets"
   ]
  },
  {
   "cell_type": "markdown",
   "metadata": {},
   "source": [
    "\n",
    "### 1. LETTER Dataset\n",
    "https://archive.ics.uci.edu/ml/datasets/letter+recognition"
   ]
  },
  {
   "cell_type": "code",
   "execution_count": 87,
   "metadata": {},
   "outputs": [],
   "source": [
    "# Size = 20000x17\n",
    "# N = 20000\n",
    "# D = 16 features\n",
    "data_letter = np.genfromtxt('letter-recognition.data', delimiter = ',', dtype=None, encoding=None)\n",
    "n_letter = np.size(data_letter)\n",
    "d_letter = 16\n",
    "X_letter = np.zeros((n_letter,d_letter))\n",
    "\n",
    "# Create X Matrix from numpy.void type\n",
    "for i in range(n_letter):\n",
    "    for j in range(d_letter):\n",
    "        X_letter[i][j] = data_letter[i][j+1]\n",
    "        \n",
    "# Create y vector with labels for each letter\n",
    "y_letter = []\n",
    "for i in range(n_letter):\n",
    "    y_letter.append(data_letter[i][0])\n",
    "\n",
    "# Convert letters to positive and negative values\n",
    "\n",
    "# A-M as positive (+) = 1\n",
    "positive = list(string.ascii_uppercase)[0:13]\n",
    "\n",
    "# N-Z as negative (-) = 0\n",
    "negative = list(string.ascii_uppercase)[13:26]\n",
    "\n",
    "y_letter = np.asarray(y_letter)\n",
    "\n",
    "for i in range(len(y_letter)):\n",
    "    for j in range(len(positive)):\n",
    "        if y_letter[i] == positive[j]:\n",
    "            y_letter[i] = 1\n",
    "        elif y_letter[i] == negative[j]:\n",
    "            y_letter[i] = 0\n",
    "\n",
    "y_letter = y_letter.astype(int)"
   ]
  },
  {
   "cell_type": "markdown",
   "metadata": {},
   "source": [
    "### 2. Indian Pines dataset\n",
    "http://www.ehu.eus/ccwintco/index.php?title=Hyperspectral_Remote_Sensing_Scenes\n"
   ]
  },
  {
   "cell_type": "code",
   "execution_count": 83,
   "metadata": {},
   "outputs": [],
   "source": [
    "# 145 x 145 x 200 multi-dimensional array\n",
    "# 145 x 145 pixel images\n",
    "# 200 samples\n",
    "# class 11: Soybean-minmill as positive, rest as negative\n",
    "mat = sio.loadmat('Indian_pines_corrected.mat')\n",
    "values_ip = mat.values()\n",
    "X_ip = values_ip[1][0:][0:]\n",
    "\n",
    "# Load ground truth (y labels)\n",
    "mat2 = sio.loadmat('Indian_pines_gt.mat')\n",
    "values2_ip = mat2.values()\n",
    "y_ip = values2_ip[2][0:][0:]\n",
    "\n",
    "# Convert class 11 (Soybean-mintill) labels in ground truth as positive\n",
    "y_ip[y_ip[0:] == 11] = 1\n",
    "y_ip[y_ip[0:] != 1] = 0\n",
    "\n",
    "# Convert 3-D array to 2-D array\n",
    "X_ip = X_ip.transpose(2,0,1).reshape(21025, -1)\n",
    "y_ip = y_ip.reshape(-1)"
   ]
  },
  {
   "cell_type": "markdown",
   "metadata": {},
   "source": [
    "### Yeast dataset\n",
    "https://archive.ics.uci.edu/ml/datasets/Yeast"
   ]
  },
  {
   "cell_type": "code",
   "execution_count": 93,
   "metadata": {},
   "outputs": [],
   "source": [
    "# n = 1484 datapoints\n",
    "# d = 8 features\n",
    "data_yeast = np.genfromtxt('yeast.data.csv', delimiter = ',', dtype=None, encoding=None)\n",
    "n_yeast = np.size(data_yeast)\n",
    "d_yeast = 8\n",
    "X_yeast = np.zeros((n_yeast,d_yeast))\n",
    "\n",
    "# Create X Matrix from numpy.void type\n",
    "for i in range(n_yeast):\n",
    "    for j in range(d_yeast):\n",
    "        X_yeast[i][j] = data_yeast[i][j+1]\n",
    "        \n",
    "# Create y vector with labels for each letter\n",
    "y_yeast = []\n",
    "for i in range(n_yeast):\n",
    "    y_yeast.append(data_yeast[i][d_yeast+1])\n",
    "    \n",
    "not_nuclear = ['CYT','MIT','ME3','ME2','ME1','EXC','VAC','POX','ERL']\n",
    "\n",
    "y_yeast = np.asarray(y_yeast)\n",
    "\n",
    "for i in range(len(y_yeast)):\n",
    "    for j in range(len(not_nuclear)):\n",
    "        if y_yeast[i] == 'NUC':\n",
    "            y_yeast[i] = 1\n",
    "        elif y_yeast[i] == not_nuclear[j]:\n",
    "            y_yeast[i] = 0\n",
    "\n",
    "y_yeast = y_yeast.astype(int)"
   ]
  }
 ],
 "metadata": {
  "kernelspec": {
   "display_name": "Python 2",
   "language": "python",
   "name": "python2"
  },
  "language_info": {
   "codemirror_mode": {
    "name": "ipython",
    "version": 2
   },
   "file_extension": ".py",
   "mimetype": "text/x-python",
   "name": "python",
   "nbconvert_exporter": "python",
   "pygments_lexer": "ipython2",
   "version": "2.7.13"
  }
 },
 "nbformat": 4,
 "nbformat_minor": 2
}
